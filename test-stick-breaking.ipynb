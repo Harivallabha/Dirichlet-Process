{
 "cells": [
  {
   "cell_type": "code",
   "execution_count": 1,
   "metadata": {},
   "outputs": [],
   "source": [
    "import pymc3 as pm\n",
    "import numpy as np"
   ]
  },
  {
   "cell_type": "code",
   "execution_count": 2,
   "metadata": {},
   "outputs": [
    {
     "name": "stdout",
     "output_type": "stream",
     "text": [
      "hikyon\n",
      "hikyon\n",
      "hikyon\n",
      "hikyon\n",
      "hikyon\n",
      "hikyon\n"
     ]
    }
   ],
   "source": [
    "with pm.Model() as model7:\n",
    "    values = 2\n",
    "    weights = np.ones(2)\n",
    "    #a = pm.Normal(\"a\", mu = 0, sigma = 1)\n",
    "    hi = pm.dp.StickBreaking(\"hi\", a=0.1 * np.ones(values), weights=weights)\n",
    "    #hi = pm.dp.StickBreaking(\"hi\", a=0.1 * np.ones(values))"
   ]
  },
  {
   "cell_type": "code",
   "execution_count": 3,
   "metadata": {},
   "outputs": [],
   "source": [
    "ls = [2, 5] # the lengthscales\n",
    "cov_func = pm.gp.cov.ExpQuad(input_dim=3, ls=ls, active_dims=[1, 2])\n",
    "mean_func = 0"
   ]
  },
  {
   "cell_type": "code",
   "execution_count": 4,
   "metadata": {},
   "outputs": [],
   "source": [
    "gp = pm.gp.Latent(mean_func, cov_func)"
   ]
  },
  {
   "cell_type": "code",
   "execution_count": 5,
   "metadata": {},
   "outputs": [
    {
     "name": "stderr",
     "output_type": "stream",
     "text": [
      "Only 20 samples in chain.\n",
      "Auto-assigning NUTS sampler...\n",
      "Initializing NUTS using jitter+adapt_diag...\n",
      "Multiprocess sampling (4 chains in 4 jobs)\n",
      "NUTS: [dir_skewed, dir_ten, dir_one, dir_tenth]\n",
      "Sampling 4 chains: 100%|██████████| 2080/2080 [00:05<00:00, 384.51draws/s]\n",
      "/home/hari/anaconda3/envs/pymc3hari/lib/python3.7/site-packages/pymc3-3.7-py3.7.egg/pymc3/sampling.py:465: UserWarning: The number of samples is too small to check convergence reliably.\n",
      "  warnings.warn(\"The number of samples is too small to check convergence reliably.\")\n",
      "There were 4 divergences after tuning. Increase `target_accept` or reparameterize.\n",
      "There were 3 divergences after tuning. Increase `target_accept` or reparameterize.\n",
      "There were 6 divergences after tuning. Increase `target_accept` or reparameterize.\n"
     ]
    }
   ],
   "source": [
    "values = 3\n",
    "\n",
    "with pm.Model() as model:\n",
    "    # borrowing these numbers from http://mayagupta.org/publications/FrigyikKapilaGuptaIntroToDirichlet.pdf\n",
    "    pm.Dirichlet('dir_tenth', a=0.1 * np.ones(values))\n",
    "    pm.Dirichlet('dir_one', a=1 * np.ones(values))\n",
    "    pm.Dirichlet('dir_ten', a=10 * np.ones(values))\n",
    "    pm.Dirichlet('dir_skewed', a=np.array([2, 5, 15]))\n",
    "    \n",
    "    # just sample a small number.\n",
    "    trace = pm.sample(20, nuts_kwargs=dict(target_accept=.99))"
   ]
  },
  {
   "cell_type": "code",
   "execution_count": null,
   "metadata": {},
   "outputs": [],
   "source": []
  },
  {
   "cell_type": "code",
   "execution_count": null,
   "metadata": {},
   "outputs": [],
   "source": []
  },
  {
   "cell_type": "code",
   "execution_count": null,
   "metadata": {},
   "outputs": [],
   "source": []
  }
 ],
 "metadata": {
  "kernelspec": {
   "display_name": "Python 3",
   "language": "python",
   "name": "python3"
  },
  "language_info": {
   "codemirror_mode": {
    "name": "ipython",
    "version": 3
   },
   "file_extension": ".py",
   "mimetype": "text/x-python",
   "name": "python",
   "nbconvert_exporter": "python",
   "pygments_lexer": "ipython3",
   "version": "3.7.3"
  }
 },
 "nbformat": 4,
 "nbformat_minor": 2
}
