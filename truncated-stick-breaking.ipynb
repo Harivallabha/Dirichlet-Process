{
 "cells": [
  {
   "cell_type": "code",
   "execution_count": 1,
   "metadata": {},
   "outputs": [],
   "source": [
    "import pymc3 as pm\n",
    "import numpy as np"
   ]
  },
  {
   "cell_type": "code",
   "execution_count": 2,
   "metadata": {},
   "outputs": [
    {
     "name": "stdout",
     "output_type": "stream",
     "text": [
      "[-0.9543003435688235, -0.6108643020548936, 23.74275899238036]\n",
      "[-0.9543003435688235, -0.6108643020548936, 23.74275899238036]\n",
      "[-0.9543003435688235, -0.6108643020548936, 23.74275899238036]\n",
      "[-0.9543003435688235, -0.6108643020548936, 23.74275899238036]\n",
      "[-0.9543003435688235, -0.6108643020548936, 23.74275899238036]\n",
      "[-0.9543003435688235, -0.6108643020548936, 23.74275899238036]\n"
     ]
    }
   ],
   "source": [
    "with pm.Model() as model1:\n",
    "    values = 2\n",
    "    weights = [0.3, 0.4, 0.3]\n",
    "    sb_1 = pm.dp.StickBreaking(\"sb_1\", a = 0.3, weights=weights, num_comp = 3)"
   ]
  },
  {
   "cell_type": "code",
   "execution_count": 3,
   "metadata": {},
   "outputs": [
    {
     "name": "stdout",
     "output_type": "stream",
     "text": [
      "[-1.9815776434491863, -1.5400170186455622, 29.771784359914047]\n",
      "[-1.9815776434491863, -1.5400170186455622, 29.771784359914047]\n",
      "[-1.9815776434491863, -1.5400170186455622, 29.771784359914047]\n",
      "[-1.9815776434491863, -1.5400170186455622, 29.771784359914047]\n",
      "[-1.9815776434491863, -1.5400170186455622, 29.771784359914047]\n",
      "[-1.9815776434491863, -1.5400170186455622, 29.771784359914047]\n"
     ]
    }
   ],
   "source": [
    "with pm.Model() as model2:\n",
    "    values = 2\n",
    "    weights = [0.3, 0.4, 0.3]\n",
    "    sb_2 = pm.dp.StickBreaking(\"sb_2\", a = 0.1, weights=weights, num_comp = 3)"
   ]
  },
  {
   "cell_type": "code",
   "execution_count": 4,
   "metadata": {},
   "outputs": [
    {
     "name": "stdout",
     "output_type": "stream",
     "text": [
      "[-1.9815776434491863, -1.5400170186455622]\n",
      "[-1.9815776434491863, -1.5400170186455622]\n",
      "[-1.9815776434491863, -1.5400170186455622]\n",
      "[-1.9815776434491863, -1.5400170186455622]\n",
      "[-1.9815776434491863, -1.5400170186455622]\n",
      "[-1.9815776434491863, -1.5400170186455622]\n"
     ]
    }
   ],
   "source": [
    "with pm.Model() as model3:\n",
    "    values = 2\n",
    "    weights = [0.3, 0.4]\n",
    "    sb_3 = pm.dp.StickBreaking(\"sb_3\", a = 0.1, weights=weights, num_comp = 2)"
   ]
  },
  {
   "cell_type": "code",
   "execution_count": null,
   "metadata": {},
   "outputs": [],
   "source": []
  }
 ],
 "metadata": {
  "kernelspec": {
   "display_name": "Python 3",
   "language": "python",
   "name": "python3"
  },
  "language_info": {
   "codemirror_mode": {
    "name": "ipython",
    "version": 3
   },
   "file_extension": ".py",
   "mimetype": "text/x-python",
   "name": "python",
   "nbconvert_exporter": "python",
   "pygments_lexer": "ipython3",
   "version": "3.7.3"
  }
 },
 "nbformat": 4,
 "nbformat_minor": 2
}
